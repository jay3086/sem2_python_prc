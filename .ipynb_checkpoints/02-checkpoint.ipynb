{
 "cells": [
  {
   "cell_type": "code",
   "execution_count": 7,
   "id": "c1d87e36",
   "metadata": {},
   "outputs": [
    {
     "name": "stdout",
     "output_type": "stream",
     "text": [
      "Data type of variables are \n",
      " a = <class 'int'> , b = <class 'float'> , c = <class 'str'> ,d =<class 'bool'>\n"
     ]
    }
   ],
   "source": [
    "a = 10\n",
    "b = 20.2\n",
    "c = \"jay\"\n",
    "d = True\n",
    "print(\"Data type of variables are \\n a = {} , b = {} , c = {} ,d ={}\".format(type(a),type(b),type(c),type(d)))"
   ]
  },
  {
   "cell_type": "code",
   "execution_count": null,
   "id": "18cf1013",
   "metadata": {},
   "outputs": [],
   "source": []
  },
  {
   "cell_type": "code",
   "execution_count": null,
   "id": "4ff84a78",
   "metadata": {},
   "outputs": [],
   "source": []
  },
  {
   "cell_type": "code",
   "execution_count": null,
   "id": "a393b2af",
   "metadata": {},
   "outputs": [],
   "source": []
  },
  {
   "cell_type": "code",
   "execution_count": null,
   "id": "8d91be81",
   "metadata": {},
   "outputs": [],
   "source": []
  }
 ],
 "metadata": {
  "kernelspec": {
   "display_name": "Python 3 (ipykernel)",
   "language": "python",
   "name": "python3"
  },
  "language_info": {
   "codemirror_mode": {
    "name": "ipython",
    "version": 3
   },
   "file_extension": ".py",
   "mimetype": "text/x-python",
   "name": "python",
   "nbconvert_exporter": "python",
   "pygments_lexer": "ipython3",
   "version": "3.9.7"
  }
 },
 "nbformat": 4,
 "nbformat_minor": 5
}
