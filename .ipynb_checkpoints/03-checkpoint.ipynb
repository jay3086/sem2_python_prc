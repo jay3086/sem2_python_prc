{
 "cells": [
  {
   "cell_type": "code",
   "execution_count": 3,
   "id": "b104cf7d",
   "metadata": {},
   "outputs": [
    {
     "name": "stdout",
     "output_type": "stream",
     "text": [
      "enter your name :jay\n",
      "enter your mobile no : 6353\n",
      "enter your email id :jay\n",
      "enetr your salary : 11\n",
      "enter your email id :23\n",
      "enetr your address :as\n",
      "enetr your blood group : as\n",
      "enetr your dob  : as\n"
     ]
    }
   ],
   "source": [
    "emp_name = input(\"enter your name :\")\n",
    "emp_mno  = int(input(\"enter your mobile no : \"))\n",
    "emp_email = input(\"enter your email id :\")\n",
    "emp_salary = int(input(\"enetr your salary : \"))\n",
    "emp_designation = input(\"enter your email id :\")\n",
    "emp_address = input(\"enetr your address :\")\n",
    "emp_bg = input(\"enetr your blood group : \")\n",
    "emp_dob = input(\"enetr your dob  : \")"
   ]
  },
  {
   "cell_type": "code",
   "execution_count": null,
   "id": "2c636bcb",
   "metadata": {},
   "outputs": [],
   "source": [
    "print(\"employee name = \"emp_name)\n",
    "print(\"employee mobile no  = \"emp_mno)\n",
    "print(\"employee emial = \"emp_email)\n",
    "print(\"employee salary = \"emp_salary)\n",
    "print(\"employee designation = \"emp_designation)\n",
    "print(\"employee address = \"emp_address)\n",
    "print(\"employee blood group = \"emp_bg)\n",
    "print(\"employee dob = \"emp_dob)\n"
   ]
  },
  {
   "cell_type": "code",
   "execution_count": null,
   "id": "da3234af",
   "metadata": {},
   "outputs": [],
   "source": []
  }
 ],
 "metadata": {
  "kernelspec": {
   "display_name": "Python 3 (ipykernel)",
   "language": "python",
   "name": "python3"
  },
  "language_info": {
   "codemirror_mode": {
    "name": "ipython",
    "version": 3
   },
   "file_extension": ".py",
   "mimetype": "text/x-python",
   "name": "python",
   "nbconvert_exporter": "python",
   "pygments_lexer": "ipython3",
   "version": "3.9.7"
  }
 },
 "nbformat": 4,
 "nbformat_minor": 5
}
