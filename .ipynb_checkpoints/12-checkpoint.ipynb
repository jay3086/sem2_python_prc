{
 "cells": [
  {
   "cell_type": "code",
   "execution_count": 4,
   "id": "cfc3b024",
   "metadata": {},
   "outputs": [
    {
     "name": "stdout",
     "output_type": "stream",
     "text": [
      "enter any n1: 11\n",
      "enter any n2: 111\n",
      "enter any n3: 1\n",
      "b is greatest\n"
     ]
    }
   ],
   "source": [
    "a  = int(input(\"enter any n1: \"))\n",
    "b  = int(input(\"enter any n2: \"))\n",
    "c  = int(input(\"enter any n3: \"))\n",
    "if(a>b & a >c):\n",
    "    print(\"a is greatest\")\n",
    "elif(b>a & b>c):\n",
    "    print(\"b is greatest\")\n",
    "else:\n",
    "    print(\"c is greatest\")"
   ]
  },
  {
   "cell_type": "code",
   "execution_count": 6,
   "id": "f4e25ba0",
   "metadata": {},
   "outputs": [
    {
     "name": "stdout",
     "output_type": "stream",
     "text": [
      "Enter the number 2\n",
      "2 x 1 = 2\n",
      "2 x 2 = 4\n",
      "2 x 3 = 6\n",
      "2 x 4 = 8\n",
      "2 x 5 = 10\n",
      "2 x 6 = 12\n",
      "2 x 7 = 14\n",
      "2 x 8 = 16\n",
      "2 x 9 = 18\n",
      "2 x 10 = 20\n"
     ]
    }
   ],
   "source": [
    "n = int(input(\"Enter the number \"))\n",
    "for i in range(1,11):\n",
    "    print(n, 'x', i, '=', n*i)"
   ]
  },
  {
   "cell_type": "code",
   "execution_count": null,
   "id": "140042f2",
   "metadata": {},
   "outputs": [],
   "source": []
  },
  {
   "cell_type": "code",
   "execution_count": null,
   "id": "5e3d5531",
   "metadata": {},
   "outputs": [],
   "source": []
  }
 ],
 "metadata": {
  "kernelspec": {
   "display_name": "Python 3 (ipykernel)",
   "language": "python",
   "name": "python3"
  },
  "language_info": {
   "codemirror_mode": {
    "name": "ipython",
    "version": 3
   },
   "file_extension": ".py",
   "mimetype": "text/x-python",
   "name": "python",
   "nbconvert_exporter": "python",
   "pygments_lexer": "ipython3",
   "version": "3.9.7"
  }
 },
 "nbformat": 4,
 "nbformat_minor": 5
}
