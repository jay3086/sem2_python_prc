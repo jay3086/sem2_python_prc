{
 "cells": [
  {
   "cell_type": "markdown",
   "id": "2a1a5fb2",
   "metadata": {},
   "source": [
    "## 14"
   ]
  },
  {
   "cell_type": "code",
   "execution_count": 22,
   "id": "0f6bef00",
   "metadata": {},
   "outputs": [
    {
     "name": "stdout",
     "output_type": "stream",
     "text": [
      "enter a number : 56\n",
      "number is prime\n"
     ]
    }
   ],
   "source": [
    "\n",
    "n = int(input(\"enter a number : \"))\n",
    "flag = False\n",
    "for i in range(2,n):\n",
    "    if(n%i==0):\n",
    "        flag = True\n",
    "    else:\n",
    "        flag = False\n",
    "if flag==True:\n",
    "    print(\"number is non prime\")\n",
    "else:\n",
    "    print(\"number is prime\")"
   ]
  },
  {
   "cell_type": "code",
   "execution_count": null,
   "id": "863bc8e8",
   "metadata": {},
   "outputs": [],
   "source": []
  },
  {
   "cell_type": "code",
   "execution_count": null,
   "id": "42aa321d",
   "metadata": {},
   "outputs": [],
   "source": []
  }
 ],
 "metadata": {
  "kernelspec": {
   "display_name": "Python 3 (ipykernel)",
   "language": "python",
   "name": "python3"
  },
  "language_info": {
   "codemirror_mode": {
    "name": "ipython",
    "version": 3
   },
   "file_extension": ".py",
   "mimetype": "text/x-python",
   "name": "python",
   "nbconvert_exporter": "python",
   "pygments_lexer": "ipython3",
   "version": "3.9.7"
  }
 },
 "nbformat": 4,
 "nbformat_minor": 5
}
