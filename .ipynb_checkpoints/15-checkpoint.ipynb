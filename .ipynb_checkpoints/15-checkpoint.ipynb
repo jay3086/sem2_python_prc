{
 "cells": [
  {
   "cell_type": "code",
   "execution_count": 1,
   "id": "47f07cc6",
   "metadata": {},
   "outputs": [
    {
     "name": "stdout",
     "output_type": "stream",
     "text": [
      "Entera a range :100\n",
      "2, 3, 5, 7, 11, 13, 17, 19, 23, 29, 31, 37, 41, 43, 47, 53, 59, 61, 67, 71, 73, 79, 83, 89, 97\n"
     ]
    }
   ],
   "source": [
    "r = int(input(\"Entera a range :\"))\n",
    "flag = False\n",
    "\n",
    "for n in range(2,r):\n",
    "    flag = True\n",
    "    for i in range(2,n):\n",
    "        if n%i==0 :\n",
    "            flag = False\n",
    "            break\n",
    "    if(flag==True):\n",
    "        print(n,end=\", \")\n",
    "print(\"\\b\\b\")"
   ]
  },
  {
   "cell_type": "code",
   "execution_count": null,
   "id": "f65c2bfe",
   "metadata": {},
   "outputs": [],
   "source": []
  }
 ],
 "metadata": {
  "kernelspec": {
   "display_name": "Python 3 (ipykernel)",
   "language": "python",
   "name": "python3"
  },
  "language_info": {
   "codemirror_mode": {
    "name": "ipython",
    "version": 3
   },
   "file_extension": ".py",
   "mimetype": "text/x-python",
   "name": "python",
   "nbconvert_exporter": "python",
   "pygments_lexer": "ipython3",
   "version": "3.9.7"
  }
 },
 "nbformat": 4,
 "nbformat_minor": 5
}
