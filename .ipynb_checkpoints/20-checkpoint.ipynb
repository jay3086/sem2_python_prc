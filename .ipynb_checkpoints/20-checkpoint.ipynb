{
 "cells": [
  {
   "cell_type": "markdown",
   "id": "13f8e869",
   "metadata": {},
   "source": [
    "## Sum of natural number"
   ]
  },
  {
   "cell_type": "code",
   "execution_count": 1,
   "id": "c6640ce3",
   "metadata": {},
   "outputs": [
    {
     "name": "stdout",
     "output_type": "stream",
     "text": [
      "input last number : 5\n",
      "15\n"
     ]
    }
   ],
   "source": [
    "n = int(input(\"input last number : \"))\n",
    "sum = 0\n",
    "for i in range(1,n+1):\n",
    "    sum += i\n",
    "print(sum)"
   ]
  },
  {
   "cell_type": "code",
   "execution_count": 12,
   "id": "18c18f26",
   "metadata": {},
   "outputs": [
    {
     "name": "stdout",
     "output_type": "stream",
     "text": [
      "enter a last number  : 500\n",
      "125250\n"
     ]
    }
   ],
   "source": [
    "num = int(input(\"enter a last number  : \"))\n",
    "sum = 0\n",
    "i = 1\n",
    "while i <= num :\n",
    "    sum += i\n",
    "    i += 1\n",
    "print(sum)\n",
    "    "
   ]
  },
  {
   "cell_type": "code",
   "execution_count": null,
   "id": "a8cf9258",
   "metadata": {},
   "outputs": [],
   "source": []
  }
 ],
 "metadata": {
  "kernelspec": {
   "display_name": "Python 3 (ipykernel)",
   "language": "python",
   "name": "python3"
  },
  "language_info": {
   "codemirror_mode": {
    "name": "ipython",
    "version": 3
   },
   "file_extension": ".py",
   "mimetype": "text/x-python",
   "name": "python",
   "nbconvert_exporter": "python",
   "pygments_lexer": "ipython3",
   "version": "3.9.7"
  }
 },
 "nbformat": 4,
 "nbformat_minor": 5
}
