{
 "cells": [
  {
   "cell_type": "code",
   "execution_count": 6,
   "id": "3fc9a842",
   "metadata": {},
   "outputs": [
    {
     "name": "stdout",
     "output_type": "stream",
     "text": [
      "welcome to calculator\n",
      "for sum press 1\n",
      "for sub press 2\n",
      "for mul press 3\n",
      "for div press 4\n",
      "Enter your choice :5\n",
      "Wrong choice\n"
     ]
    }
   ],
   "source": [
    "print(\"welcome to calculator\")\n",
    "print(\"for sum press 1\")\n",
    "print(\"for sub press 2\")\n",
    "print(\"for mul press 3\")\n",
    "print(\"for div press 4\")\n",
    "ip = int(input(\"Enter your choice :\"))\n",
    "if ip == 1 :\n",
    "    n1 = int(input(\"Enter num1 :\"))\n",
    "    n2 = int(input(\"Enter num2 :\"))\n",
    "    print(\"sum of\",n1,\"and\",n2,\"is\",n1+n2)\n",
    "elif ip == 2 :\n",
    "    n1 = int(input(\"Enter num1 :\"))\n",
    "    n2 = int(input(\"Enter num2 :\"))\n",
    "    print(\"sub of\",n1,\"and\",n2,\"is\",n1-n2)\n",
    "elif ip == 3 :\n",
    "    n1 = int(input(\"Enter num1 :\"))\n",
    "    n2 = int(input(\"Enter num2 :\"))\n",
    "    print(\"mul of\",n1,\"and\",n2,\"is\",n1*n2)\n",
    "elif ip == 4 :\n",
    "    n1 = int(input(\"Enter num1 :\"))\n",
    "    n2 = int(input(\"Enter num2 :\"))\n",
    "    print(\"div of\",n1,\"and\",n2,\"is\",n1/n2)\n",
    "else :\n",
    "    print(\"Wrong choice\")"
   ]
  },
  {
   "cell_type": "code",
   "execution_count": null,
   "id": "8ce67db4",
   "metadata": {},
   "outputs": [],
   "source": []
  }
 ],
 "metadata": {
  "kernelspec": {
   "display_name": "Python 3 (ipykernel)",
   "language": "python",
   "name": "python3"
  },
  "language_info": {
   "codemirror_mode": {
    "name": "ipython",
    "version": 3
   },
   "file_extension": ".py",
   "mimetype": "text/x-python",
   "name": "python",
   "nbconvert_exporter": "python",
   "pygments_lexer": "ipython3",
   "version": "3.9.7"
  }
 },
 "nbformat": 4,
 "nbformat_minor": 5
}
