{
 "cells": [
  {
   "cell_type": "code",
   "execution_count": 15,
   "id": "7ecd0ce7",
   "metadata": {},
   "outputs": [],
   "source": [
    "n1  = 10 \n",
    "# = is aassignment oprator is right to left"
   ]
  },
  {
   "cell_type": "code",
   "execution_count": 16,
   "id": "810edaae",
   "metadata": {},
   "outputs": [
    {
     "name": "stdout",
     "output_type": "stream",
     "text": [
      "11\n"
     ]
    }
   ],
   "source": [
    "number1   = 10\n",
    "number1+=1\n",
    "print(number1)"
   ]
  },
  {
   "cell_type": "code",
   "execution_count": 17,
   "id": "d5efd872",
   "metadata": {},
   "outputs": [
    {
     "name": "stdout",
     "output_type": "stream",
     "text": [
      "9\n"
     ]
    }
   ],
   "source": [
    "number1 -= 2\n",
    "print(number1)"
   ]
  },
  {
   "cell_type": "code",
   "execution_count": 18,
   "id": "01c39a4b",
   "metadata": {},
   "outputs": [
    {
     "name": "stdout",
     "output_type": "stream",
     "text": [
      "3.0\n"
     ]
    }
   ],
   "source": [
    "number1/=3\n",
    "print(number1)"
   ]
  },
  {
   "cell_type": "code",
   "execution_count": 19,
   "id": "ad0f00f8",
   "metadata": {},
   "outputs": [
    {
     "name": "stdout",
     "output_type": "stream",
     "text": [
      "9.0\n"
     ]
    }
   ],
   "source": [
    "number1*=3\n",
    "print(number1)"
   ]
  },
  {
   "cell_type": "code",
   "execution_count": 20,
   "id": "09275595",
   "metadata": {},
   "outputs": [
    {
     "name": "stdout",
     "output_type": "stream",
     "text": [
      "3.0\n"
     ]
    }
   ],
   "source": [
    "number1//=3\n",
    "print(number1)"
   ]
  },
  {
   "cell_type": "code",
   "execution_count": 21,
   "id": "0cc5ae91",
   "metadata": {},
   "outputs": [
    {
     "name": "stdout",
     "output_type": "stream",
     "text": [
      "3\n"
     ]
    }
   ],
   "source": [
    "number2 = 9 \n",
    "number2 //=3\n",
    "print(number2)"
   ]
  },
  {
   "cell_type": "code",
   "execution_count": 22,
   "id": "d5796389",
   "metadata": {},
   "outputs": [
    {
     "name": "stdout",
     "output_type": "stream",
     "text": [
      "1\n"
     ]
    }
   ],
   "source": [
    "number2 = 10 \n",
    "number2%=3\n",
    "print(number2)"
   ]
  },
  {
   "cell_type": "code",
   "execution_count": 23,
   "id": "0f73292e",
   "metadata": {},
   "outputs": [
    {
     "name": "stdout",
     "output_type": "stream",
     "text": [
      "64\n"
     ]
    }
   ],
   "source": [
    "number3=4\n",
    "number3**=3\n",
    "print(number3)"
   ]
  },
  {
   "cell_type": "code",
   "execution_count": null,
   "id": "279d6e4b",
   "metadata": {},
   "outputs": [],
   "source": [
    "i"
   ]
  },
  {
   "cell_type": "code",
   "execution_count": null,
   "id": "ebe74e4d",
   "metadata": {},
   "outputs": [],
   "source": []
  },
  {
   "cell_type": "code",
   "execution_count": null,
   "id": "1d4eb36c",
   "metadata": {},
   "outputs": [],
   "source": []
  }
 ],
 "metadata": {
  "kernelspec": {
   "display_name": "Python 3 (ipykernel)",
   "language": "python",
   "name": "python3"
  },
  "language_info": {
   "codemirror_mode": {
    "name": "ipython",
    "version": 3
   },
   "file_extension": ".py",
   "mimetype": "text/x-python",
   "name": "python",
   "nbconvert_exporter": "python",
   "pygments_lexer": "ipython3",
   "version": "3.9.7"
  }
 },
 "nbformat": 4,
 "nbformat_minor": 5
}
