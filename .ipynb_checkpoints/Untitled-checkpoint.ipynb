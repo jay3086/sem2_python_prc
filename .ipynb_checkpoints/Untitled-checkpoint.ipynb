{
 "cells": [
  {
   "cell_type": "code",
   "execution_count": 12,
   "id": "4d2223f6",
   "metadata": {},
   "outputs": [
    {
     "name": "stdout",
     "output_type": "stream",
     "text": [
      "enter any number ?12\n",
      "number is bewteen 10 to 15\n"
     ]
    }
   ],
   "source": [
    "number =  int(input(\"enter any number ?\"))\n",
    "\n",
    "if number<10:\n",
    "    print(\"number is less then 10\")\n",
    "elif number>10 and number<15:\n",
    "    print(\"number is bewteen 10 to 15\")\n",
    "elif number>15 and number<20:\n",
    "    print(\"number is b/w 15 to 20\")\n",
    "elif number>20 and number<25:\n",
    "    print(\"number is b/w 10 to 25\")\n",
    "else:\n",
    "    print(\"number is greter then 25\")"
   ]
  },
  {
   "cell_type": "code",
   "execution_count": 13,
   "id": "fc06e87e",
   "metadata": {},
   "outputs": [
    {
     "name": "stdout",
     "output_type": "stream",
     "text": [
      "enter any number ?3\n",
      "number is odd\n"
     ]
    }
   ],
   "source": [
    "number =  int(input(\"enter any number ?\"))\n",
    "if number%2==0:\n",
    "    print(\"number is even\")\n",
    "else:\n",
    "    print(\"number is odd\")"
   ]
  },
  {
   "cell_type": "code",
   "execution_count": 14,
   "id": "1528d968",
   "metadata": {},
   "outputs": [
    {
     "name": "stdout",
     "output_type": "stream",
     "text": [
      "enter any n1 2\n",
      "enter any n2 3\n",
      "enter any n3 4\n",
      "n3 is gretest\n"
     ]
    }
   ],
   "source": [
    "n1 =  int(input(\"enter any n1 \"))\n",
    "n2 =  int(input(\"enter any n2 \"))\n",
    "n3 =  int(input(\"enter any n3 \"))\n",
    "if n1>n2 and n1>n3:\n",
    "    print(\"n1 is gretest\")\n",
    "elif n2>n1 and n2>n3:\n",
    "    print(\"n2 is gretest\")\n",
    "else:\n",
    "    print(\"n3 is gretest\")"
   ]
  },
  {
   "cell_type": "code",
   "execution_count": 15,
   "id": "49585922",
   "metadata": {},
   "outputs": [
    {
     "name": "stdout",
     "output_type": "stream",
     "text": [
      "Enter any number : 23\n",
      "276\n"
     ]
    }
   ],
   "source": [
    "num =  int(input(\"Enter any number : \"))\n",
    "sum = 0\n",
    "for i in range(num+1):\n",
    "    sum = sum + i;\n",
    "print(sum)"
   ]
  },
  {
   "cell_type": "code",
   "execution_count": 16,
   "id": "d16a1036",
   "metadata": {},
   "outputs": [
    {
     "name": "stdout",
     "output_type": "stream",
     "text": [
      "55\n"
     ]
    }
   ],
   "source": [
    "number = 1 \n",
    "sum   = 0 \n",
    "while(number <= 10):\n",
    "    sum = sum + number\n",
    "    number = number + 1\n",
    "print(sum)"
   ]
  },
  {
   "cell_type": "code",
   "execution_count": 1,
   "id": "ad61f887",
   "metadata": {},
   "outputs": [
    {
     "name": "stdout",
     "output_type": "stream",
     "text": [
      "4.0\n"
     ]
    }
   ],
   "source": [
    "import math as mh\n",
    "print(mh.sqrt(16)) "
   ]
  },
  {
   "cell_type": "code",
   "execution_count": null,
   "id": "3312488a",
   "metadata": {},
   "outputs": [],
   "source": [
    "x = mh.sin(50/360*2*mh.pi)\n",
    "print(x)"
   ]
  },
  {
   "cell_type": "code",
   "execution_count": 3,
   "id": "3114389a",
   "metadata": {},
   "outputs": [
    {
     "name": "stdout",
     "output_type": "stream",
     "text": [
      "1.766044443118978\n"
     ]
    }
   ],
   "source": [
    "x = mh.exp(mh.log(x+1))  \n",
    "print(x)"
   ]
  },
  {
   "cell_type": "code",
   "execution_count": 3,
   "id": "7b558ffa",
   "metadata": {},
   "outputs": [
    {
     "name": "stdout",
     "output_type": "stream",
     "text": [
      "7\n"
     ]
    }
   ],
   "source": [
    "def sum(a,b,c):\n",
    "    return a+b+c\n",
    "print(sum(1,2,4))"
   ]
  },
  {
   "cell_type": "code",
   "execution_count": 20,
   "id": "785f34f0",
   "metadata": {},
   "outputs": [
    {
     "name": "stdout",
     "output_type": "stream",
     "text": [
      "120\n"
     ]
    }
   ],
   "source": [
    "def faco(n):\n",
    "    fact = 1 \n",
    "    for i in range(1,n+1):\n",
    "        fact = fact * i\n",
    "        i+=1\n",
    "    return fact\n",
    "print(faco(5))"
   ]
  },
  {
   "cell_type": "code",
   "execution_count": null,
   "id": "4c8fcf33",
   "metadata": {},
   "outputs": [],
   "source": []
  }
 ],
 "metadata": {
  "kernelspec": {
   "display_name": "Python 3 (ipykernel)",
   "language": "python",
   "name": "python3"
  },
  "language_info": {
   "codemirror_mode": {
    "name": "ipython",
    "version": 3
   },
   "file_extension": ".py",
   "mimetype": "text/x-python",
   "name": "python",
   "nbconvert_exporter": "python",
   "pygments_lexer": "ipython3",
   "version": "3.9.7"
  }
 },
 "nbformat": 4,
 "nbformat_minor": 5
}
