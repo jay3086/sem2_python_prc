{
 "cells": [
  {
   "cell_type": "code",
   "execution_count": null,
   "id": "4d2223f6",
   "metadata": {},
   "outputs": [],
   "source": [
    "number =  int(input(\"enter any number ?\"))\n",
    "\n",
    "if number<10:\n",
    "    print(\"number is less then 10\")\n",
    "elif number>10 and number<15:\n",
    "    print(\"number is bewteen 10 to 15\")\n",
    "elif number>15 and number<20:\n",
    "    print(\"number is b/w 15 to 20\")\n",
    "elif number>20 and number<25:\n",
    "    print(\"number is b/w 10 to 25\")\n",
    "else:\n",
    "    print(\"number is greter then 25\")"
   ]
  }
 ],
 "metadata": {
  "kernelspec": {
   "display_name": "Python 3 (ipykernel)",
   "language": "python",
   "name": "python3"
  },
  "language_info": {
   "codemirror_mode": {
    "name": "ipython",
    "version": 3
   },
   "file_extension": ".py",
   "mimetype": "text/x-python",
   "name": "python",
   "nbconvert_exporter": "python",
   "pygments_lexer": "ipython3",
   "version": "3.9.7"
  }
 },
 "nbformat": 4,
 "nbformat_minor": 5
}
