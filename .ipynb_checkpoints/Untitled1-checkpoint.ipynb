{
 "cells": [
  {
   "cell_type": "code",
   "execution_count": null,
   "id": "df9f4551",
   "metadata": {},
   "outputs": [],
   "source": [
    "print(\"1 . kilometer to mile \")\n",
    "print(\"2 . celsius to faherhite \")\n",
    "print(\"3 . meter to centimeter \")\n",
    "print(\"4 . acer to squre meter \")\n",
    "choice = int(input(\"Enter your choice :\"))\n"
   ]
  },
  {
   "cell_type": "code",
   "execution_count": 1,
   "id": "f15a531f",
   "metadata": {},
   "outputs": [
    {
     "name": "stdout",
     "output_type": "stream",
     "text": [
      "Jay Bhogayata\n"
     ]
    }
   ],
   "source": [
    "def name():\n",
    "    print(\"Jay Bhogayata\")\n",
    "name()"
   ]
  },
  {
   "cell_type": "code",
   "execution_count": 2,
   "id": "f419a3f5",
   "metadata": {},
   "outputs": [
    {
     "name": "stdout",
     "output_type": "stream",
     "text": [
      "Hello world\n"
     ]
    }
   ],
   "source": [
    "def hello():\n",
    "    print(\"Hello world\")\n",
    "hello()"
   ]
  },
  {
   "cell_type": "code",
   "execution_count": 6,
   "id": "85278325",
   "metadata": {},
   "outputs": [
    {
     "data": {
      "text/plain": [
       "8"
      ]
     },
     "execution_count": 6,
     "metadata": {},
     "output_type": "execute_result"
    }
   ],
   "source": [
    "# function to add two number\n",
    "\n",
    "def add(a,b):\n",
    "    sum = a + b\n",
    "    return sum\n",
    "add(3,5)"
   ]
  },
  {
   "cell_type": "code",
   "execution_count": 7,
   "id": "29aee32a",
   "metadata": {},
   "outputs": [
    {
     "name": "stdout",
     "output_type": "stream",
     "text": [
      "Enter no1 : 12\n",
      "Enter no2 : 21\n"
     ]
    },
    {
     "data": {
      "text/plain": [
       "33"
      ]
     },
     "execution_count": 7,
     "metadata": {},
     "output_type": "execute_result"
    }
   ],
   "source": [
    "n1 = int(input(\"Enter no1 : \"))\n",
    "n2 = int(input(\"Enter no2 : \"))\n",
    "add(n1,n2)"
   ]
  },
  {
   "cell_type": "code",
   "execution_count": 11,
   "id": "5eb24f9e",
   "metadata": {},
   "outputs": [
    {
     "data": {
      "text/plain": [
       "5.0"
      ]
     },
     "execution_count": 11,
     "metadata": {},
     "output_type": "execute_result"
    }
   ],
   "source": [
    "def div(x,y):\n",
    "    return x/y\n",
    "div(25,5)\n"
   ]
  },
  {
   "cell_type": "code",
   "execution_count": 12,
   "id": "ea61f008",
   "metadata": {},
   "outputs": [
    {
     "data": {
      "text/plain": [
       "450"
      ]
     },
     "execution_count": 12,
     "metadata": {},
     "output_type": "execute_result"
    }
   ],
   "source": [
    "def add(x,y):\n",
    "    return x+y\n",
    "add(225,225)"
   ]
  },
  {
   "cell_type": "code",
   "execution_count": null,
   "id": "59e6d961",
   "metadata": {},
   "outputs": [],
   "source": []
  }
 ],
 "metadata": {
  "kernelspec": {
   "display_name": "Python 3 (ipykernel)",
   "language": "python",
   "name": "python3"
  },
  "language_info": {
   "codemirror_mode": {
    "name": "ipython",
    "version": 3
   },
   "file_extension": ".py",
   "mimetype": "text/x-python",
   "name": "python",
   "nbconvert_exporter": "python",
   "pygments_lexer": "ipython3",
   "version": "3.9.7"
  }
 },
 "nbformat": 4,
 "nbformat_minor": 5
}
