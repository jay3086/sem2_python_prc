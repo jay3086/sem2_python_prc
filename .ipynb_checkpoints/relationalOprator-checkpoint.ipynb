{
 "cells": [
  {
   "cell_type": "markdown",
   "id": "55f9d329",
   "metadata": {},
   "source": [
    "## >,<,>=,<=,==,!="
   ]
  },
  {
   "cell_type": "code",
   "execution_count": 2,
   "id": "96a24988",
   "metadata": {},
   "outputs": [],
   "source": [
    "n1 = 10\n",
    "n2 = 2"
   ]
  },
  {
   "cell_type": "code",
   "execution_count": 3,
   "id": "0eba91be",
   "metadata": {},
   "outputs": [
    {
     "data": {
      "text/plain": [
       "True"
      ]
     },
     "execution_count": 3,
     "metadata": {},
     "output_type": "execute_result"
    }
   ],
   "source": [
    "n1>n2"
   ]
  },
  {
   "cell_type": "code",
   "execution_count": 4,
   "id": "0189673b",
   "metadata": {},
   "outputs": [
    {
     "data": {
      "text/plain": [
       "False"
      ]
     },
     "execution_count": 4,
     "metadata": {},
     "output_type": "execute_result"
    }
   ],
   "source": [
    "n2<n2"
   ]
  },
  {
   "cell_type": "code",
   "execution_count": 5,
   "id": "fc0327b6",
   "metadata": {},
   "outputs": [
    {
     "data": {
      "text/plain": [
       "True"
      ]
     },
     "execution_count": 5,
     "metadata": {},
     "output_type": "execute_result"
    }
   ],
   "source": [
    "n1!=n2"
   ]
  },
  {
   "cell_type": "code",
   "execution_count": 6,
   "id": "c8f2263a",
   "metadata": {},
   "outputs": [
    {
     "data": {
      "text/plain": [
       "False"
      ]
     },
     "execution_count": 6,
     "metadata": {},
     "output_type": "execute_result"
    }
   ],
   "source": [
    "n1<=n2"
   ]
  },
  {
   "cell_type": "code",
   "execution_count": 9,
   "id": "b893a458",
   "metadata": {},
   "outputs": [
    {
     "data": {
      "text/plain": [
       "True"
      ]
     },
     "execution_count": 9,
     "metadata": {},
     "output_type": "execute_result"
    }
   ],
   "source": [
    "n1>=n2"
   ]
  },
  {
   "cell_type": "code",
   "execution_count": 8,
   "id": "4506ffbc",
   "metadata": {},
   "outputs": [
    {
     "data": {
      "text/plain": [
       "False"
      ]
     },
     "execution_count": 8,
     "metadata": {},
     "output_type": "execute_result"
    }
   ],
   "source": [
    "n1==n2"
   ]
  },
  {
   "cell_type": "code",
   "execution_count": null,
   "id": "1c377f6c",
   "metadata": {},
   "outputs": [],
   "source": []
  }
 ],
 "metadata": {
  "kernelspec": {
   "display_name": "Python 3 (ipykernel)",
   "language": "python",
   "name": "python3"
  },
  "language_info": {
   "codemirror_mode": {
    "name": "ipython",
    "version": 3
   },
   "file_extension": ".py",
   "mimetype": "text/x-python",
   "name": "python",
   "nbconvert_exporter": "python",
   "pygments_lexer": "ipython3",
   "version": "3.9.7"
  }
 },
 "nbformat": 4,
 "nbformat_minor": 5
}
