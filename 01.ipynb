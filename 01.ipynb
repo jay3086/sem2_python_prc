{
 "cells": [
  {
   "cell_type": "code",
   "execution_count": 3,
   "id": "2aa2ce45",
   "metadata": {},
   "outputs": [
    {
     "name": "stdout",
     "output_type": "stream",
     "text": [
      "Name : Jay Bhogayata\n",
      "Address : 27,Harshiddhi park soc.,ghatlodiya,ahamdabad\n",
      "Phone Number : +91 6353352916\n",
      "Email : jaybhogayata53@gmail.com\n"
     ]
    }
   ],
   "source": [
    "print(\"Name : Jay Bhogayata\")\n",
    "print(\"Address : 27,Harshiddhi park soc.,ghatlodiya,ahamdabad\")\n",
    "print(\"Phone Number : +91 6353352916\")\n",
    "print(\"Email : jaybhogayata53@gmail.com\");"
   ]
  },
  {
   "cell_type": "code",
   "execution_count": null,
   "id": "30c2f2e8",
   "metadata": {},
   "outputs": [],
   "source": []
  }
 ],
 "metadata": {
  "kernelspec": {
   "display_name": "Python 3 (ipykernel)",
   "language": "python",
   "name": "python3"
  },
  "language_info": {
   "codemirror_mode": {
    "name": "ipython",
    "version": 3
   },
   "file_extension": ".py",
   "mimetype": "text/x-python",
   "name": "python",
   "nbconvert_exporter": "python",
   "pygments_lexer": "ipython3",
   "version": "3.9.7"
  }
 },
 "nbformat": 4,
 "nbformat_minor": 5
}
