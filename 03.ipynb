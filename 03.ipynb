{
 "cells": [
  {
   "cell_type": "code",
   "execution_count": 3,
   "id": "b104cf7d",
   "metadata": {},
   "outputs": [
    {
     "name": "stdout",
     "output_type": "stream",
     "text": [
      "enter your name :jay\n",
      "enter your mobile no : 6353352916\n",
      "enter your email id :jay@123.com\n",
      "enetr your salary : 963258\n",
      "enter your email id :maneger\n",
      "enetr your address :abc soc , baroda\n",
      "enetr your blood group : a+\n",
      "enetr your dob  : 21/08/1995\n"
     ]
    }
   ],
   "source": [
    "emp_name = input(\"enter your name :\")\n",
    "emp_mno  = int(input(\"enter your mobile no : \"))\n",
    "emp_email = input(\"enter your email id :\")\n",
    "emp_salary = int(input(\"enetr your salary : \"))\n",
    "emp_designation = input(\"enter your designation :\")\n",
    "emp_address = input(\"enetr your address :\")\n",
    "emp_bg = input(\"enetr your blood group : \")\n",
    "emp_dob = input(\"enetr your dob  : \")"
   ]
  },
  {
   "cell_type": "code",
   "execution_count": 5,
   "id": "2c636bcb",
   "metadata": {},
   "outputs": [
    {
     "name": "stdout",
     "output_type": "stream",
     "text": [
      "employee name =  jay\n",
      "employee mobile no  =  6353352916\n",
      "employee emial =  jay@123.com\n",
      "employee salary =  963258\n",
      "employee designation =  maneger\n",
      "employee address =  abc soc , baroda\n",
      "employee blood group =  a+\n",
      "employee dob =  21/08/1995\n"
     ]
    }
   ],
   "source": [
    "print(\"employee name = \",emp_name)\n",
    "print(\"employee mobile no  = \",emp_mno)\n",
    "print(\"employee email = \",emp_email)\n",
    "print(\"employee salary = \",emp_salary)\n",
    "print(\"employee designation = \",emp_designation)\n",
    "print(\"employee address = \",emp_address)\n",
    "print(\"employee blood group = \",emp_bg)\n",
    "print(\"employee dob = \",emp_dob)\n"
   ]
  },
  {
   "cell_type": "code",
   "execution_count": null,
   "id": "da3234af",
   "metadata": {},
   "outputs": [],
   "source": []
  }
 ],
 "metadata": {
  "kernelspec": {
   "display_name": "Python 3 (ipykernel)",
   "language": "python",
   "name": "python3"
  },
  "language_info": {
   "codemirror_mode": {
    "name": "ipython",
    "version": 3
   },
   "file_extension": ".py",
   "mimetype": "text/x-python",
   "name": "python",
   "nbconvert_exporter": "python",
   "pygments_lexer": "ipython3",
   "version": "3.9.7"
  }
 },
 "nbformat": 4,
 "nbformat_minor": 5
}
