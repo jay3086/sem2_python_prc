{
 "cells": [
  {
   "cell_type": "code",
   "execution_count": 1,
   "id": "473f8a0b",
   "metadata": {},
   "outputs": [
    {
     "name": "stdout",
     "output_type": "stream",
     "text": [
      "1. addition\n",
      "2. sub\n",
      "3. multiplication\n",
      "4. devison\n",
      "5. modulo\n",
      "6. floor div\n",
      "7. exponatial\n",
      "enter your choice1\n",
      "enter no1 : 23\n",
      "enter no2 : 32\n",
      "addition  =  55\n"
     ]
    }
   ],
   "source": [
    "print(\"1. addition\")\n",
    "print(\"2. sub\")\n",
    "print(\"3. multiplication\")\n",
    "print(\"4. devison\")\n",
    "print(\"5. modulo\")\n",
    "print(\"6. floor div\")\n",
    "print(\"7. exponatial\")\n",
    "ch = int(input(\"enter your choice\"))\n",
    "no1 = int(input(\"enter no1 : \"))\n",
    "no2 = int(input(\"enter no2 : \"))\n",
    "if(ch==1):\n",
    "    print(\"addition  = \",no1+no2 )\n",
    "elif(ch==2):\n",
    "    print(\"sub  = \",no1-no2 )\n",
    "elif(ch==3):\n",
    "    print(\"mul  = \",no1*no2 )\n",
    "elif(ch==4):\n",
    "    print(\"div  = \",no1/no2 )\n",
    "elif(ch==5):\n",
    "    print(\"modulo  = \",no1%no2 )\n",
    "elif(ch==6):\n",
    "    print(\"floor div  = \",no1//no2 )\n",
    "elif(ch==7):\n",
    "    print(\"exponatial  = \",no1**no2 )\n",
    "else:\n",
    "    print(\"wrong input\")"
   ]
  },
  {
   "cell_type": "code",
   "execution_count": null,
   "id": "5bbd4cd7",
   "metadata": {},
   "outputs": [],
   "source": []
  }
 ],
 "metadata": {
  "kernelspec": {
   "display_name": "Python 3 (ipykernel)",
   "language": "python",
   "name": "python3"
  },
  "language_info": {
   "codemirror_mode": {
    "name": "ipython",
    "version": 3
   },
   "file_extension": ".py",
   "mimetype": "text/x-python",
   "name": "python",
   "nbconvert_exporter": "python",
   "pygments_lexer": "ipython3",
   "version": "3.9.7"
  }
 },
 "nbformat": 4,
 "nbformat_minor": 5
}
