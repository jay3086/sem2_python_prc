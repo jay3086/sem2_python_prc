{
 "cells": [
  {
   "cell_type": "code",
   "execution_count": 11,
   "id": "f6e7387e",
   "metadata": {},
   "outputs": [
    {
     "name": "stdout",
     "output_type": "stream",
     "text": [
      "enetr a num : 3\n",
      "power of number is  9\n"
     ]
    }
   ],
   "source": [
    "num = int(input(\"enter a num : \"))\n",
    "print(\"power of number is \" , num*num)"
   ]
  },
  {
   "cell_type": "code",
   "execution_count": 14,
   "id": "3072d64b",
   "metadata": {},
   "outputs": [
    {
     "name": "stdout",
     "output_type": "stream",
     "text": [
      "enetr a num :144\n",
      "squrt of number is :  12.0\n"
     ]
    }
   ],
   "source": [
    "num1 =float(input(\"enter a num :\"))\n",
    "print(\"squrt of number is : \",num1**0.5)\n"
   ]
  },
  {
   "cell_type": "code",
   "execution_count": null,
   "id": "771cb2f8",
   "metadata": {},
   "outputs": [],
   "source": []
  }
 ],
 "metadata": {
  "kernelspec": {
   "display_name": "Python 3 (ipykernel)",
   "language": "python",
   "name": "python3"
  },
  "language_info": {
   "codemirror_mode": {
    "name": "ipython",
    "version": 3
   },
   "file_extension": ".py",
   "mimetype": "text/x-python",
   "name": "python",
   "nbconvert_exporter": "python",
   "pygments_lexer": "ipython3",
   "version": "3.9.7"
  }
 },
 "nbformat": 4,
 "nbformat_minor": 5
}
