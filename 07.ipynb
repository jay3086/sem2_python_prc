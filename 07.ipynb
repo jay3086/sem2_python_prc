{
 "cells": [
  {
   "cell_type": "code",
   "execution_count": 4,
   "id": "7cd982bf",
   "metadata": {},
   "outputs": [
    {
     "name": "stdout",
     "output_type": "stream",
     "text": [
      "1. arae of triangle  \n",
      "2. area of circle   \n",
      "3. area of squre    \n",
      "4 .area of cylinder \n",
      "enetr your choice : 5\n",
      "Wrong input\n"
     ]
    }
   ],
   "source": [
    "print(\"1. arae of triangle  \")\n",
    "print(\"2. area of circle   \")\n",
    "print(\"3. area of squre    \")\n",
    "print(\"4 .area of cylinder \")\n",
    "ch = int(input(\"enetr your choice : \"))\n",
    "if(ch==1):\n",
    "    base = int(input(\"enter value of base : \"))\n",
    "    perpi_height = int(input(\"enter perpendiculer height :\"))\n",
    "    print(\"area of triangle is\",1/2*base*perpi_height)\n",
    "elif(ch==2):\n",
    "    r = float(input(\"enetr value of radius : \"))\n",
    "    print(\"area of circle : \",3.14*r*r)\n",
    "elif(ch==3):\n",
    "    side = int(input(\"enetr value of any side :\"))\n",
    "    print(\"area of squre is :\",side*side)\n",
    "elif(ch==4):\n",
    "    r1 = int(input(\"enetr radius : \"))\n",
    "    h1 = int(input(\"enetr height : \"))\n",
    "    area =(2*3.14*r1*h1)+(2*3.14*r1*r1)\n",
    "    print(\"area of cylinder : \",area)\n",
    "else:\n",
    "    print(\"Wrong input\")"
   ]
  },
  {
   "cell_type": "markdown",
   "id": "2fe7365c",
   "metadata": {},
   "source": []
  },
  {
   "cell_type": "code",
   "execution_count": null,
   "id": "2aa51e53",
   "metadata": {},
   "outputs": [],
   "source": []
  }
 ],
 "metadata": {
  "kernelspec": {
   "display_name": "Python 3 (ipykernel)",
   "language": "python",
   "name": "python3"
  },
  "language_info": {
   "codemirror_mode": {
    "name": "ipython",
    "version": 3
   },
   "file_extension": ".py",
   "mimetype": "text/x-python",
   "name": "python",
   "nbconvert_exporter": "python",
   "pygments_lexer": "ipython3",
   "version": "3.9.7"
  }
 },
 "nbformat": 4,
 "nbformat_minor": 5
}
