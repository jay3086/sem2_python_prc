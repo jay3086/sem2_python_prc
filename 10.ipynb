{
 "cells": [
  {
   "cell_type": "code",
   "execution_count": 7,
   "id": "0acdf5e9",
   "metadata": {},
   "outputs": [
    {
     "name": "stdout",
     "output_type": "stream",
     "text": [
      "after swaping value of  x is =  20\n",
      "after swaping value of  y is =  10\n"
     ]
    }
   ],
   "source": [
    "x = 10 \n",
    "y = 20\n",
    "temp = x\n",
    "x = y\n",
    "y = temp\n",
    "print(\"after swaping value of  x is = \",x)\n",
    "print(\"after swaping value of  y is = \",y)\n"
   ]
  },
  {
   "cell_type": "code",
   "execution_count": 9,
   "id": "12194dee",
   "metadata": {},
   "outputs": [
    {
     "name": "stdout",
     "output_type": "stream",
     "text": [
      "after swaping value of  x is =  20\n",
      "after swaping value of  y is =  10\n"
     ]
    }
   ],
   "source": [
    "x= 10\n",
    "y=20\n",
    "x = x + y\n",
    "y = x - y\n",
    "x = x - y\n",
    "print(\"after swaping value of  x is = \",x)\n",
    "print(\"after swaping value of  y is = \",y)\n"
   ]
  },
  {
   "cell_type": "code",
   "execution_count": 10,
   "id": "d405890b",
   "metadata": {},
   "outputs": [
    {
     "name": "stdout",
     "output_type": "stream",
     "text": [
      "after swaping value of  x is =  20\n",
      "after swaping value of  y is =  10\n"
     ]
    }
   ],
   "source": [
    "x = 10 \n",
    "y = 20\n",
    "x = x*y\n",
    "y = x//y\n",
    "x = x//y\n",
    "print(\"after swaping value of  x is = \",x)\n",
    "print(\"after swaping value of  y is = \",y)\n"
   ]
  },
  {
   "cell_type": "code",
   "execution_count": 11,
   "id": "13649b54",
   "metadata": {},
   "outputs": [
    {
     "name": "stdout",
     "output_type": "stream",
     "text": [
      "after swaping value of  x is =  20\n",
      "after swaping value of  y is =  10\n"
     ]
    }
   ],
   "source": [
    "x = 10\n",
    "y = 20\n",
    "x = x ^ y\n",
    "y = x ^ y\n",
    "x = x ^ y\n",
    "print(\"after swaping value of  x is = \",x)\n",
    "print(\"after swaping value of  y is = \",y)\n"
   ]
  },
  {
   "cell_type": "code",
   "execution_count": 13,
   "id": "78d4b87d",
   "metadata": {},
   "outputs": [
    {
     "name": "stdout",
     "output_type": "stream",
     "text": [
      "after swaping value of  x is =  20\n",
      "after swaping value of  y is =  10\n"
     ]
    }
   ],
   "source": [
    "x,y = 10,20\n",
    "x = x + y\n",
    "y = x - y\n",
    "x = x - y\n",
    "print(\"after swaping value of  x is = \",x)\n",
    "print(\"after swaping value of  y is = \",y)\n"
   ]
  },
  {
   "cell_type": "code",
   "execution_count": null,
   "id": "baa77fb2",
   "metadata": {},
   "outputs": [],
   "source": []
  }
 ],
 "metadata": {
  "kernelspec": {
   "display_name": "Python 3 (ipykernel)",
   "language": "python",
   "name": "python3"
  },
  "language_info": {
   "codemirror_mode": {
    "name": "ipython",
    "version": 3
   },
   "file_extension": ".py",
   "mimetype": "text/x-python",
   "name": "python",
   "nbconvert_exporter": "python",
   "pygments_lexer": "ipython3",
   "version": "3.9.7"
  }
 },
 "nbformat": 4,
 "nbformat_minor": 5
}
