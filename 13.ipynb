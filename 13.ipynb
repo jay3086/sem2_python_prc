{
 "cells": [
  {
   "cell_type": "code",
   "execution_count": 1,
   "id": "19aaaec3",
   "metadata": {},
   "outputs": [
    {
     "name": "stdout",
     "output_type": "stream",
     "text": [
      "Enter the number 5\n",
      "5 x 1 = 5\n",
      "5 x 2 = 10\n",
      "5 x 3 = 15\n",
      "5 x 4 = 20\n",
      "5 x 5 = 25\n",
      "5 x 6 = 30\n",
      "5 x 7 = 35\n",
      "5 x 8 = 40\n",
      "5 x 9 = 45\n",
      "5 x 10 = 50\n"
     ]
    }
   ],
   "source": [
    "n = int(input(\"Enter the number \"))\n",
    "for i in range(1,11):\n",
    "    print(n, 'x', i, '=', n*i)\n"
   ]
  },
  {
   "cell_type": "code",
   "execution_count": 5,
   "id": "5e4c6716",
   "metadata": {},
   "outputs": [
    {
     "name": "stdout",
     "output_type": "stream",
     "text": [
      "25 x 1 = 25\n",
      "25 x 2 = 50\n",
      "25 x 3 = 75\n",
      "25 x 4 = 100\n",
      "25 x 5 = 125\n",
      "25 x 6 = 150\n",
      "25 x 7 = 175\n",
      "25 x 8 = 200\n",
      "25 x 9 = 225\n",
      "25 x 10 = 250\n"
     ]
    }
   ],
   "source": [
    "n = 25\n",
    "i = 1\n",
    "while(i<11):\n",
    "    print(n, 'x', i, '=', n*i)\n",
    "    i = i+1"
   ]
  },
  {
   "cell_type": "code",
   "execution_count": null,
   "id": "adc5b70d",
   "metadata": {},
   "outputs": [],
   "source": []
  }
 ],
 "metadata": {
  "kernelspec": {
   "display_name": "Python 3 (ipykernel)",
   "language": "python",
   "name": "python3"
  },
  "language_info": {
   "codemirror_mode": {
    "name": "ipython",
    "version": 3
   },
   "file_extension": ".py",
   "mimetype": "text/x-python",
   "name": "python",
   "nbconvert_exporter": "python",
   "pygments_lexer": "ipython3",
   "version": "3.9.7"
  }
 },
 "nbformat": 4,
 "nbformat_minor": 5
}
