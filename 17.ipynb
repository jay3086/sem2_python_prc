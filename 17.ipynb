{
 "cells": [
  {
   "cell_type": "markdown",
   "id": "a7d7b087",
   "metadata": {},
   "source": [
    "## fibonacci"
   ]
  },
  {
   "cell_type": "code",
   "execution_count": null,
   "id": "9402b77c",
   "metadata": {},
   "outputs": [],
   "source": [
    "n = int(input(\"input a number : \"))\n",
    "a = 0\n",
    "b = 1\n",
    "\n",
    "print(a,\",\",b,\",\",end=\"\")\n",
    "for i in range(2,n):\n",
    "    c = a+b\n",
    "    a= b\n",
    "    b=c\n",
    "    print(c,\",\",end=\"\")\n",
    "print(\"\\b\\b\")\n",
    "    \n",
    "    \n",
    "    \n",
    "    "
   ]
  },
  {
   "cell_type": "code",
   "execution_count": 1,
   "id": "0cfa1481",
   "metadata": {},
   "outputs": [
    {
     "name": "stdout",
     "output_type": "stream",
     "text": [
      "Enter how many fibonachi number you want to print :10\n",
      "0 , 1 ,1 ,2 ,3 ,5 ,8 ,13 ,21 ,34\n"
     ]
    }
   ],
   "source": [
    "num = int(input(\"Enter how many fibonachi number you want to print :\"))\n",
    "a = 0\n",
    "b = 1\n",
    "print(a,\",\",b,\",\",end=\"\")\n",
    "for i in range(2,num):\n",
    "    c  = a + b\n",
    "    a = b \n",
    "    b = c\n",
    "    print(c,end=\" ,\")\n",
    "print(\"\\b\\b\")\n"
   ]
  },
  {
   "cell_type": "code",
   "execution_count": null,
   "id": "44cb6ea9",
   "metadata": {},
   "outputs": [],
   "source": []
  }
 ],
 "metadata": {
  "kernelspec": {
   "display_name": "Python 3 (ipykernel)",
   "language": "python",
   "name": "python3"
  },
  "language_info": {
   "codemirror_mode": {
    "name": "ipython",
    "version": 3
   },
   "file_extension": ".py",
   "mimetype": "text/x-python",
   "name": "python",
   "nbconvert_exporter": "python",
   "pygments_lexer": "ipython3",
   "version": "3.9.7"
  }
 },
 "nbformat": 4,
 "nbformat_minor": 5
}
