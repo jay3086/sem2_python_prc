{
 "cells": [
  {
   "cell_type": "code",
   "execution_count": 3,
   "id": "07d117c4",
   "metadata": {},
   "outputs": [
    {
     "name": "stdout",
     "output_type": "stream",
     "text": [
      "chech number to check number is amastrong or not :56\n",
      "number is not  amastrong\n"
     ]
    }
   ],
   "source": [
    "n = int(input(\"chech number to check number is amastrong or not :\"))\n",
    "sum = 0\n",
    "\n",
    "temp = n\n",
    "while temp > 0:\n",
    "    di = temp % 10\n",
    "    sum += di**3\n",
    "    temp //= 10\n",
    "\n",
    "if sum==n:\n",
    "    print(\"number is amastrong\")\n",
    "else:\n",
    "    print(\"number is not  amastrong\")\n",
    "    "
   ]
  },
  {
   "cell_type": "code",
   "execution_count": 3,
   "id": "c3235580",
   "metadata": {},
   "outputs": [
    {
     "name": "stdout",
     "output_type": "stream",
     "text": [
      "enetra  num :1634\n",
      "number is amastrong\n"
     ]
    }
   ],
   "source": [
    "num = int(input(\"enetra  num :\"))\n",
    "sum = 0\n",
    "l = len(str(num))\n",
    "# print(l)\n",
    "temp=num\n",
    "while temp > 0:\n",
    "    digit = temp % 10\n",
    "    sum += digit**l\n",
    "    temp //= 10\n",
    "\n",
    "if sum==num:\n",
    "    print(\"number is amastrong\")\n",
    "else:\n",
    "    print(\"number is not  amastrong\")\n",
    "     "
   ]
  },
  {
   "cell_type": "code",
   "execution_count": 9,
   "id": "68166104",
   "metadata": {},
   "outputs": [
    {
     "name": "stdout",
     "output_type": "stream",
     "text": [
      "enetr range:1000000\n",
      "153\n",
      "370\n",
      "371\n",
      "407\n",
      "1634\n",
      "8208\n",
      "9474\n",
      "54748\n",
      "92727\n",
      "93084\n",
      "548834\n"
     ]
    }
   ],
   "source": [
    "r = int(input(\"enetr range:\"))\n",
    "# print(l)\n",
    "\n",
    "for i in range(10,r):\n",
    "    sum = 0\n",
    "    l = len(str(i))\n",
    "    temp=i\n",
    "    while temp > 0:\n",
    "        digit = temp % 10\n",
    "        sum += digit**l\n",
    "        temp //= 10\n",
    "\n",
    "    if sum==i:\n",
    "        print(i)\n",
    "    else:\n",
    "        continue\n",
    "     "
   ]
  },
  {
   "cell_type": "code",
   "execution_count": null,
   "id": "7f2bf327",
   "metadata": {},
   "outputs": [],
   "source": []
  },
  {
   "cell_type": "code",
   "execution_count": null,
   "id": "4a35abe7",
   "metadata": {},
   "outputs": [],
   "source": []
  }
 ],
 "metadata": {
  "kernelspec": {
   "display_name": "Python 3 (ipykernel)",
   "language": "python",
   "name": "python3"
  },
  "language_info": {
   "codemirror_mode": {
    "name": "ipython",
    "version": 3
   },
   "file_extension": ".py",
   "mimetype": "text/x-python",
   "name": "python",
   "nbconvert_exporter": "python",
   "pygments_lexer": "ipython3",
   "version": "3.9.7"
  }
 },
 "nbformat": 4,
 "nbformat_minor": 5
}
