{
 "cells": [
  {
   "cell_type": "code",
   "execution_count": null,
   "id": "df9f4551",
   "metadata": {},
   "outputs": [],
   "source": [
    "print(\"1 . kilometer to mile \")\n",
    "print(\"2 . celsius to faherhite \")\n",
    "print(\"3 . meter to centimeter \")\n",
    "print(\"4 . acer to squre meter \")\n",
    "choice = int(input(\"Enter your choice :\"))\n"
   ]
  },
  {
   "cell_type": "code",
   "execution_count": null,
   "id": "f15a531f",
   "metadata": {},
   "outputs": [],
   "source": []
  }
 ],
 "metadata": {
  "kernelspec": {
   "display_name": "Python 3 (ipykernel)",
   "language": "python",
   "name": "python3"
  },
  "language_info": {
   "codemirror_mode": {
    "name": "ipython",
    "version": 3
   },
   "file_extension": ".py",
   "mimetype": "text/x-python",
   "name": "python",
   "nbconvert_exporter": "python",
   "pygments_lexer": "ipython3",
   "version": "3.9.7"
  }
 },
 "nbformat": 4,
 "nbformat_minor": 5
}
