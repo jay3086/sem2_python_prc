{
 "cells": [
  {
   "cell_type": "markdown",
   "id": "5bf602df",
   "metadata": {},
   "source": [
    "## weite a python programm to take input from user an integer and check wather it is devisible by 11 or not"
   ]
  },
  {
   "cell_type": "code",
   "execution_count": 8,
   "id": "cfe7a4fc",
   "metadata": {},
   "outputs": [
    {
     "name": "stdout",
     "output_type": "stream",
     "text": [
      "enetr a Number :55\n",
      "number is divisible by 11\n"
     ]
    }
   ],
   "source": [
    "n1 = int(input(\"enetr a Number :\"))\n",
    "if(n1%11==0):\n",
    "    print(\"number is divisible by 11\")\n",
    "else:\n",
    "    print(\"number is not divisible by 11\")    "
   ]
  },
  {
   "cell_type": "markdown",
   "id": "4cf6961a",
   "metadata": {},
   "source": [
    "## write a program to check wather intput is string or not"
   ]
  },
  {
   "cell_type": "code",
   "execution_count": 6,
   "id": "8110c3d9",
   "metadata": {},
   "outputs": [
    {
     "name": "stdout",
     "output_type": "stream",
     "text": [
      "enter anyththing :12\n",
      "input is not a string\n",
      "input is a digit\n"
     ]
    }
   ],
   "source": [
    "a = input(\"enter anyththing :\")\n",
    "if(a.isalpha()):\n",
    "    print(\"in is a string\")\n",
    "else:\n",
    "    print(\"input is not a string\")\n",
    "if(a.isdigit()):\n",
    "    print(\"input is a digit\")\n",
    "else:\n",
    "    print(\"input is not a digit\")"
   ]
  },
  {
   "cell_type": "code",
   "execution_count": null,
   "id": "0eb3f7ad",
   "metadata": {},
   "outputs": [],
   "source": []
  }
 ],
 "metadata": {
  "kernelspec": {
   "display_name": "Python 3 (ipykernel)",
   "language": "python",
   "name": "python3"
  },
  "language_info": {
   "codemirror_mode": {
    "name": "ipython",
    "version": 3
   },
   "file_extension": ".py",
   "mimetype": "text/x-python",
   "name": "python",
   "nbconvert_exporter": "python",
   "pygments_lexer": "ipython3",
   "version": "3.9.7"
  }
 },
 "nbformat": 4,
 "nbformat_minor": 5
}
